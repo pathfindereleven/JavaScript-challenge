{
 "cells": [
  {
   "cell_type": "code",
   "execution_count": 3,
   "id": "db9322c3",
   "metadata": {},
   "outputs": [
    {
     "name": "stdout",
     "output_type": "stream",
     "text": [
      "hello\n"
     ]
    }
   ],
   "source": [
    "console.log(\"hello\");"
   ]
  },
  {
   "cell_type": "code",
   "execution_count": 15,
   "id": "48d5dad6",
   "metadata": {},
   "outputs": [
    {
     "ename": "SyntaxError",
     "evalue": "Cannot use import statement outside a module",
     "output_type": "error",
     "traceback": [
      "evalmachine.<anonymous>:1",
      "import * as d3 from 'd3'",
      "^^^^^^",
      "",
      "SyntaxError: Cannot use import statement outside a module",
      "    at new Script (node:vm:94:7)",
      "    at createScript (node:vm:251:10)",
      "    at Object.runInThisContext (node:vm:299:10)",
      "    at run ([eval]:1020:15)",
      "    at onRunRequest ([eval]:864:18)",
      "    at onMessage ([eval]:828:13)",
      "    at process.emit (node:events:517:28)",
      "    at emit (node:internal/child_process:944:14)",
      "    at process.processTicksAndRejections (node:internal/process/task_queues:83:21)"
     ]
    }
   ],
   "source": [
    "import * as d3 from 'd3'"
   ]
  },
  {
   "cell_type": "code",
   "execution_count": 12,
   "id": "9a40fd6e",
   "metadata": {},
   "outputs": [
    {
     "ename": "ReferenceError",
     "evalue": "HTML is not defined",
     "output_type": "error",
     "traceback": [
      "evalmachine.<anonymous>:1",
      "HTML('<script src=\"./d3.min.js\"></script>')",
      "^",
      "",
      "ReferenceError: HTML is not defined",
      "    at evalmachine.<anonymous>:1:1",
      "    at Script.runInThisContext (node:vm:123:12)",
      "    at Object.runInThisContext (node:vm:299:38)",
      "    at run ([eval]:1020:15)",
      "    at onRunRequest ([eval]:864:18)",
      "    at onMessage ([eval]:828:13)",
      "    at process.emit (node:events:517:28)",
      "    at emit (node:internal/child_process:944:14)",
      "    at process.processTicksAndRejections (node:internal/process/task_queues:83:21)"
     ]
    }
   ],
   "source": [
    "HTML('<script src=\"./d3.min.js\"></script>')"
   ]
  },
  {
   "cell_type": "code",
   "execution_count": 4,
   "id": "30ae6e26",
   "metadata": {},
   "outputs": [],
   "source": [
    "const url = \"https://2u-data-curriculum-team.s3.amazonaws.com/dataviz-classroom/v1.1/14-Interactive-Web-Visualizations/02-Homework/samples.json\";\n"
   ]
  },
  {
   "cell_type": "code",
   "execution_count": 16,
   "id": "e3d0910c",
   "metadata": {},
   "outputs": [
    {
     "ename": "ReferenceError",
     "evalue": "json is not defined",
     "output_type": "error",
     "traceback": [
      "evalmachine.<anonymous>:1",
      "data = json(url)",
      "^",
      "",
      "ReferenceError: json is not defined",
      "    at evalmachine.<anonymous>:1:1",
      "    at Script.runInThisContext (node:vm:123:12)",
      "    at Object.runInThisContext (node:vm:299:38)",
      "    at run ([eval]:1020:15)",
      "    at onRunRequest ([eval]:864:18)",
      "    at onMessage ([eval]:828:13)",
      "    at process.emit (node:events:517:28)",
      "    at emit (node:internal/child_process:944:14)",
      "    at process.processTicksAndRejections (node:internal/process/task_queues:83:21)"
     ]
    }
   ],
   "source": [
    "data = json(url)"
   ]
  },
  {
   "cell_type": "code",
   "execution_count": null,
   "id": "f0caaeeb",
   "metadata": {},
   "outputs": [],
   "source": []
  }
 ],
 "metadata": {
  "kernelspec": {
   "display_name": "JavaScript (Node.js)",
   "language": "javascript",
   "name": "javascript"
  },
  "language_info": {
   "file_extension": ".js",
   "mimetype": "application/javascript",
   "name": "javascript",
   "version": "18.18.0"
  }
 },
 "nbformat": 4,
 "nbformat_minor": 5
}
